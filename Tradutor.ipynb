{
  "nbformat": 4,
  "nbformat_minor": 0,
  "metadata": {
    "colab": {
      "provenance": [],
      "authorship_tag": "ABX9TyMwvYlCx+Dbznjl9FYXxXi7",
      "include_colab_link": true
    },
    "kernelspec": {
      "name": "python3",
      "display_name": "Python 3"
    },
    "language_info": {
      "name": "python"
    }
  },
  "cells": [
    {
      "cell_type": "markdown",
      "metadata": {
        "id": "view-in-github",
        "colab_type": "text"
      },
      "source": [
        "<a href=\"https://colab.research.google.com/github/LucasTalen/DIO-Azure/blob/main/Tradutor.ipynb\" target=\"_parent\"><img src=\"https://colab.research.google.com/assets/colab-badge.svg\" alt=\"Open In Colab\"/></a>"
      ]
    },
    {
      "cell_type": "code",
      "execution_count": null,
      "metadata": {
        "id": "-ggWJLKIrZ_d"
      },
      "outputs": [],
      "source": [
        "!pip install requests beautifulsoup4 openai langchain-openai langchain-community"
      ]
    },
    {
      "cell_type": "code",
      "source": [
        "import requests\n",
        "from bs4 import BeautifulSoup\n",
        "import openai\n",
        "from langchain.llms import OpenAI"
      ],
      "metadata": {
        "id": "9wMu5CuursrP"
      },
      "execution_count": null,
      "outputs": []
    },
    {
      "cell_type": "code",
      "source": [
        "def extrair_texto_de_site(url):\n",
        "  response = requests.get(url)\n",
        "  if response.status_code != 200:\n",
        "    raise Exception('Falha ao acessar o site')\n",
        "  else:\n",
        "    soup = BeautifulSoup(response.text, 'html.parser')\n",
        "    for script_e_style in soup(['script', 'style']):\n",
        "      script_e_style.decompose()\n",
        "      texto = soup.get_text(separator=' ')\n",
        "      linhas = (linha.strip() for linha in texto.splitlines())\n",
        "      texto_sem_espacos_em_branco = '\\n'.join(linha for linha in linhas if linha)\n",
        "  return texto_sem_espacos_em_branco\n",
        "  text = soup.get_text()\n",
        "  return text"
      ],
      "metadata": {
        "id": "JlL5iDJar9g-"
      },
      "execution_count": null,
      "outputs": []
    },
    {
      "cell_type": "code",
      "source": [
        "url = 'https://br.lipsum.com/'\n",
        "texto_url = extrair_texto_de_site(url)\n",
        "texto_url"
      ],
      "metadata": {
        "id": "712lUy8Hsx1T"
      },
      "execution_count": null,
      "outputs": []
    },
    {
      "cell_type": "code",
      "source": [
        "from langchain_openai.chat_models.azure import AzureChatOpenAI\n",
        "from langchain_openai.embeddings.azure import AzureOpenAIEmbeddings"
      ],
      "metadata": {
        "id": "wCOneuoMtspv"
      },
      "execution_count": null,
      "outputs": []
    },
    {
      "cell_type": "code",
      "source": [
        "cliente = AzureChatOpenAI(\n",
        "    azure_endpoint= '',\n",
        "    api_key='',\n",
        "    api_version='2024-02-15-preview',\n",
        "    deployment_name='gpt-4o-mini',\n",
        "    max_retries=0\n",
        ")"
      ],
      "metadata": {
        "id": "cutvZ_cTvCcB"
      },
      "execution_count": null,
      "outputs": []
    },
    {
      "cell_type": "code",
      "source": [
        "def tradutor_de_artigos(texto, idioma):\n",
        "  msg = [\n",
        "      ('system', 'Você atua como um tradutor de textos'),\n",
        "      ('user', f'Traduza o {texto} para o idioma {idioma} e responda no formato em markdown'),\n",
        "  ]\n",
        "  resposta = cliente.chat(msg)\n",
        "  return resposta.content"
      ],
      "metadata": {
        "id": "j0Xu4r4Cvt2f"
      },
      "execution_count": null,
      "outputs": []
    }
  ]
}